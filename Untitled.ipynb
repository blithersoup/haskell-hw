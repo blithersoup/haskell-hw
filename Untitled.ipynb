{
 "cells": [
  {
   "cell_type": "code",
   "execution_count": 1,
   "id": "a7ade1fa",
   "metadata": {},
   "outputs": [],
   "source": [
    "int x = 5;"
   ]
  },
  {
   "cell_type": "code",
   "execution_count": 2,
   "id": "5275f0f3",
   "metadata": {},
   "outputs": [
    {
     "data": {
      "text/plain": [
       "5"
      ]
     },
     "execution_count": 2,
     "metadata": {},
     "output_type": "execute_result"
    }
   ],
   "source": [
    "x"
   ]
  },
  {
   "cell_type": "code",
   "execution_count": 3,
   "id": "fd4677dc",
   "metadata": {},
   "outputs": [],
   "source": [
    "#include <map>"
   ]
  },
  {
   "cell_type": "code",
   "execution_count": 5,
   "id": "72a0b39e",
   "metadata": {},
   "outputs": [
    {
     "name": "stderr",
     "output_type": "stream",
     "text": [
      "In file included from input_line_5:1:\n",
      "In file included from /home/gradyarnold/mambaforge/include/xeus/xinterpreter.hpp:17:\n",
      "In file included from /home/gradyarnold/mambaforge/include/xeus/xcomm.hpp:15:\n",
      "In file included from /home/gradyarnold/mambaforge/bin/../lib/gcc/../../x86_64-conda-linux-gnu/include/c++/10.4.0/map:61:\n",
      "\u001b[1m/home/gradyarnold/mambaforge/bin/../lib/gcc/../../x86_64-conda-linux-gnu/include/c++/10.4.0/bits/stl_map.h:123:71: \u001b[0m\u001b[0;1;31merror: \u001b[0m\u001b[1mno member named 'value' in 'std::is_same<std::pair<const int, int>, std::pair<const int, int> >'\u001b[0m\n",
      "      static_assert(is_same<typename _Alloc::value_type, value_type>::value,\n",
      "\u001b[0;1;32m                    ~~~~~~~~~~~~~~~~~~~~~~~~~~~~~~~~~~~~~~~~~~~~~~~~~~^\n",
      "\u001b[0m\u001b[1minput_line_14:2:21: \u001b[0m\u001b[0;1;30mnote: \u001b[0min instantiation of template class 'std::map<int, int, std::less<int>, std::allocator<std::pair<const int, int> > >' requested here\u001b[0m\n",
      " std::map<int, int> y { {1, 2}, {3, 2} };\n",
      "\u001b[0;1;32m                    ^\n",
      "\u001b[0mIn file included from input_line_1:1:\n",
      "In file included from /home/gradyarnold/mambaforge/bin/../lib/gcc/../../x86_64-conda-linux-gnu/include/c++/10.4.0/new:41:\n",
      "In file included from /home/gradyarnold/mambaforge/bin/../lib/gcc/../../x86_64-conda-linux-gnu/include/c++/10.4.0/exception:147:\n",
      "In file included from /home/gradyarnold/mambaforge/bin/../lib/gcc/../../x86_64-conda-linux-gnu/include/c++/10.4.0/bits/exception_ptr.h:43:\n",
      "In file included from /home/gradyarnold/mambaforge/bin/../lib/gcc/../../x86_64-conda-linux-gnu/include/c++/10.4.0/bits/move.h:57:\n",
      "\u001b[1m/home/gradyarnold/mambaforge/bin/../lib/gcc/../../x86_64-conda-linux-gnu/include/c++/10.4.0/type_traits:139:31: \u001b[0m\u001b[0;1;31merror: \u001b[0m\u001b[1mno member named 'value' in 'std::is_constructible<const int, const int &>'\u001b[0m\n",
      "    : public conditional<_B1::value, _B2, _B1>::type\n",
      "\u001b[0;1;32m                         ~~~~~^\n",
      "\u001b[0m\u001b[1m/home/gradyarnold/mambaforge/bin/../lib/gcc/../../x86_64-conda-linux-gnu/include/c++/10.4.0/bits/stl_pair.h:106:9: \u001b[0m\u001b[0;1;30mnote: \u001b[0min instantiation of template class 'std::__and_<std::is_constructible<const int, const int &>, std::is_constructible<int, const int &> >' requested here\u001b[0m\n",
      "        return __and_<is_constructible<_T1, const _U1&>,\n",
      "\u001b[0;1;32m               ^\n",
      "\u001b[0m\u001b[1m/home/gradyarnold/mambaforge/bin/../lib/gcc/../../x86_64-conda-linux-gnu/include/c++/10.4.0/bits/stl_pair.h:262:7: \u001b[0m\u001b[0;1;30mnote: \u001b[0min instantiation of function template specialization 'std::_PCC<true, const int, int>::_ConstructiblePair<const int, int>' requested here\u001b[0m\n",
      "                           _ConstructiblePair<_U1, _U2>()\n",
      "\u001b[0;1;32m                           ^\n",
      "\u001b[0m\u001b[1m/home/gradyarnold/mambaforge/bin/../lib/gcc/../../x86_64-conda-linux-gnu/include/c++/10.4.0/bits/stl_pair.h:266:17: \u001b[0m\u001b[0;1;30mnote: \u001b[0mwhile substituting prior template arguments into non-type template parameter [with _U1 = const int, _U2 = int]\u001b[0m\n",
      "      constexpr pair(const _T1& __a, const _T2& __b)\n",
      "\u001b[0;1;32m                ^~~~~~~~~~~~~~~~~~~~~~~~~~~~~~~~~~~~\n",
      "\u001b[0m\u001b[1minput_line_14:2:25: \u001b[0m\u001b[0;1;30mnote: \u001b[0mwhile substituting deduced template arguments into function template 'pair' [with _U1 = (no value), _U2 = (no value), $2 = (no value)]\u001b[0m\n",
      " std::map<int, int> y { {1, 2}, {3, 2} };\n",
      "\u001b[0;1;32m                        ^\n",
      "\u001b[0mIn file included from input_line_1:1:\n",
      "In file included from /home/gradyarnold/mambaforge/bin/../lib/gcc/../../x86_64-conda-linux-gnu/include/c++/10.4.0/new:41:\n",
      "In file included from /home/gradyarnold/mambaforge/bin/../lib/gcc/../../x86_64-conda-linux-gnu/include/c++/10.4.0/exception:147:\n",
      "In file included from /home/gradyarnold/mambaforge/bin/../lib/gcc/../../x86_64-conda-linux-gnu/include/c++/10.4.0/bits/exception_ptr.h:43:\n",
      "In file included from /home/gradyarnold/mambaforge/bin/../lib/gcc/../../x86_64-conda-linux-gnu/include/c++/10.4.0/bits/move.h:57:\n",
      "\u001b[1m/home/gradyarnold/mambaforge/bin/../lib/gcc/../../x86_64-conda-linux-gnu/include/c++/10.4.0/type_traits:121:31: \u001b[0m\u001b[0;1;31merror: \u001b[0m\u001b[1mno member named 'value' in 'std::is_void<const int &>'\u001b[0m\n",
      "    : public conditional<_B1::value, _B1, __or_<_B2, _B3, _Bn...>>::type\n",
      "\u001b[0;1;32m                         ~~~~~^\n",
      "\u001b[0m\u001b[1m/home/gradyarnold/mambaforge/bin/../lib/gcc/../../x86_64-conda-linux-gnu/include/c++/10.4.0/type_traits:1416:19: \u001b[0m\u001b[0;1;30mnote: \u001b[0min instantiation of template class 'std::__or_<std::is_void<const int &>, std::is_function<const int>, std::is_array<const int> >' requested here\u001b[0m\n",
      "           bool = __or_<is_void<_From>, is_function<_To>,\n",
      "\u001b[0;1;32m                  ^\n",
      "\u001b[0m\u001b[1m/home/gradyarnold/mambaforge/bin/../lib/gcc/../../x86_64-conda-linux-gnu/include/c++/10.4.0/type_traits:1448:14: \u001b[0m\u001b[0;1;30mnote: \u001b[0min instantiation of default argument for '__is_convertible_helper<const int &, const int>' required here\u001b[0m\n",
      "    : public __is_convertible_helper<_From, _To>::type\n",
      "\u001b[0;1;32m             ^~~~~~~~~~~~~~~~~~~~~~~~~~~~~~~~~~~\n",
      "\u001b[0m\u001b[1m/home/gradyarnold/mambaforge/bin/../lib/gcc/../../x86_64-conda-linux-gnu/include/c++/10.4.0/type_traits:139:26: \u001b[0m\u001b[0;1;30mnote: \u001b[0min instantiation of template class 'std::is_convertible<const int &, const int>' requested here\u001b[0m\n",
      "    : public conditional<_B1::value, _B2, _B1>::type\n",
      "\u001b[0;1;32m                         ^\n",
      "\u001b[0m\u001b[1m/home/gradyarnold/mambaforge/bin/../lib/gcc/../../x86_64-conda-linux-gnu/include/c++/10.4.0/bits/stl_pair.h:113:9: \u001b[0m\u001b[0;1;30mnote: \u001b[0min instantiation of template class 'std::__and_<std::is_convertible<const int &, const int>, std::is_convertible<const int &, int> >' requested here\u001b[0m\n",
      "        return __and_<is_convertible<const _U1&, _T1>,\n",
      "\u001b[0;1;32m               ^\n",
      "\u001b[0m\u001b[1m/home/gradyarnold/mambaforge/bin/../lib/gcc/../../x86_64-conda-linux-gnu/include/c++/10.4.0/bits/stl_pair.h:264:7: \u001b[0m\u001b[0;1;30mnote: \u001b[0min instantiation of function template specialization 'std::_PCC<true, const int, int>::_ImplicitlyConvertiblePair<const int, int>' requested here\u001b[0m\n",
      "                           _ImplicitlyConvertiblePair<_U1, _U2>(),\n",
      "\u001b[0;1;32m                           ^\n",
      "\u001b[0m\u001b[1m/home/gradyarnold/mambaforge/bin/../lib/gcc/../../x86_64-conda-linux-gnu/include/c++/10.4.0/bits/stl_pair.h:266:17: \u001b[0m\u001b[0;1;30mnote: \u001b[0mwhile substituting prior template arguments into non-type template parameter [with _U1 = const int, _U2 = int]\u001b[0m\n",
      "      constexpr pair(const _T1& __a, const _T2& __b)\n",
      "\u001b[0;1;32m                ^~~~~~~~~~~~~~~~~~~~~~~~~~~~~~~~~~~~\n",
      "\u001b[0m\u001b[1minput_line_14:2:25: \u001b[0m\u001b[0;1;30mnote: \u001b[0mwhile substituting deduced template arguments into function template 'pair' [with _U1 = (no value), _U2 = (no value), $2 = (no value)]\u001b[0m\n",
      " std::map<int, int> y { {1, 2}, {3, 2} };\n",
      "\u001b[0;1;32m                        ^\n",
      "\u001b[0mIn file included from input_line_1:1:\n",
      "In file included from /home/gradyarnold/mambaforge/bin/../lib/gcc/../../x86_64-conda-linux-gnu/include/c++/10.4.0/new:41:\n",
      "In file included from /home/gradyarnold/mambaforge/bin/../lib/gcc/../../x86_64-conda-linux-gnu/include/c++/10.4.0/exception:147:\n",
      "In file included from /home/gradyarnold/mambaforge/bin/../lib/gcc/../../x86_64-conda-linux-gnu/include/c++/10.4.0/bits/exception_ptr.h:43:\n",
      "In file included from /home/gradyarnold/mambaforge/bin/../lib/gcc/../../x86_64-conda-linux-gnu/include/c++/10.4.0/bits/move.h:57:\n",
      "\u001b[1m/home/gradyarnold/mambaforge/bin/../lib/gcc/../../x86_64-conda-linux-gnu/include/c++/10.4.0/type_traits:144:31: \u001b[0m\u001b[0;1;31merror: \u001b[0m\u001b[1mno member named 'value' in 'std::is_constructible<const int, int &&>'\u001b[0m\n",
      "    : public conditional<_B1::value, __and_<_B2, _B3, _Bn...>, _B1>::type\n",
      "\u001b[0;1;32m                         ~~~~~^\n",
      "\u001b[0m\u001b[1m/home/gradyarnold/mambaforge/bin/../lib/gcc/../../x86_64-conda-linux-gnu/include/c++/10.4.0/bits/stl_pair.h:153:9: \u001b[0m\u001b[0;1;30mnote: \u001b[0min instantiation of template class 'std::__and_<std::is_constructible<const int, int &&>, std::is_constructible<int, const int &&>, std::__and_<std::is_convertible<int &&, const int>, std::is_convertible<const int &, int> > >' requested here\u001b[0m\n",
      "        return __and_<is_constructible<_T1, _U1&&>,\n",
      "\u001b[0;1;32m               ^\n",
      "\u001b[0m\u001b[1m/home/gradyarnold/mambaforge/bin/../lib/gcc/../../x86_64-conda-linux-gnu/include/c++/10.4.0/bits/stl_pair.h:320:7: \u001b[0m\u001b[0;1;30mnote: \u001b[0min instantiation of function template specialization 'std::_PCC<true, const int, int>::_MoveCopyPair<true, int, int>' requested here\u001b[0m\n",
      "                           _MoveCopyPair<true, _U1, _T2>(),\n",
      "\u001b[0;1;32m                           ^\n",
      "\u001b[0m\u001b[1m/home/gradyarnold/mambaforge/bin/../lib/gcc/../../x86_64-conda-linux-gnu/include/c++/10.4.0/bits/stl_pair.h:322:18: \u001b[0m\u001b[0;1;30mnote: \u001b[0mwhile substituting prior template arguments into non-type template parameter [with _U1 = int]\u001b[0m\n",
      "       constexpr pair(_U1&& __x, const _T2& __y)\n",
      "\u001b[0;1;32m                 ^~~~~~~~~~~~~~~~~~~~~~~~~~~~~~~\n",
      "\u001b[0m\u001b[1minput_line_14:2:25: \u001b[0m\u001b[0;1;30mnote: \u001b[0mwhile substituting deduced template arguments into function template 'pair' [with _U1 = int, $1 = (no value)]\u001b[0m\n",
      " std::map<int, int> y { {1, 2}, {3, 2} };\n",
      "\u001b[0;1;32m                        ^\n",
      "\u001b[0mIn file included from input_line_1:1:\n",
      "In file included from /home/gradyarnold/mambaforge/bin/../lib/gcc/../../x86_64-conda-linux-gnu/include/c++/10.4.0/new:41:\n",
      "In file included from /home/gradyarnold/mambaforge/bin/../lib/gcc/../../x86_64-conda-linux-gnu/include/c++/10.4.0/exception:147:\n",
      "In file included from /home/gradyarnold/mambaforge/bin/../lib/gcc/../../x86_64-conda-linux-gnu/include/c++/10.4.0/bits/exception_ptr.h:43:\n",
      "In file included from /home/gradyarnold/mambaforge/bin/../lib/gcc/../../x86_64-conda-linux-gnu/include/c++/10.4.0/bits/move.h:57:\n",
      "\u001b[1m/home/gradyarnold/mambaforge/bin/../lib/gcc/../../x86_64-conda-linux-gnu/include/c++/10.4.0/type_traits:144:31: \u001b[0m\u001b[0;1;31merror: \u001b[0m\u001b[1mno member named 'value' in 'std::is_constructible<const int, const int &>'\u001b[0m\n",
      "    : public conditional<_B1::value, __and_<_B2, _B3, _Bn...>, _B1>::type\n",
      "\u001b[0;1;32m                         ~~~~~^\n",
      "\u001b[0m\u001b[1m/home/gradyarnold/mambaforge/bin/../lib/gcc/../../x86_64-conda-linux-gnu/include/c++/10.4.0/bits/stl_pair.h:139:9: \u001b[0m\u001b[0;1;30mnote: \u001b[0min instantiation of template class 'std::__and_<std::is_constructible<const int, const int &>, std::is_constructible<int, int &&>, std::__and_<std::is_convertible<const int &, const int>, std::is_convertible<int &&, int> > >' requested here\u001b[0m\n",
      "        return __and_<is_constructible<_T1, const _U1&>,\n",
      "\u001b[0;1;32m               ^\n",
      "\u001b[0m\u001b[1m/home/gradyarnold/mambaforge/bin/../lib/gcc/../../x86_64-conda-linux-gnu/include/c++/10.4.0/bits/stl_pair.h:334:7: \u001b[0m\u001b[0;1;30mnote: \u001b[0min instantiation of function template specialization 'std::_PCC<true, const int, int>::_CopyMovePair<true, const int, int>' requested here\u001b[0m\n",
      "                           _CopyMovePair<true, _T1, _U2>(),\n",
      "\u001b[0;1;32m                           ^\n",
      "\u001b[0m\u001b[1m/home/gradyarnold/mambaforge/bin/../lib/gcc/../../x86_64-conda-linux-gnu/include/c++/10.4.0/bits/stl_pair.h:336:18: \u001b[0m\u001b[0;1;30mnote: \u001b[0mwhile substituting prior template arguments into non-type template parameter [with _U2 = int]\u001b[0m\n",
      "       constexpr pair(const _T1& __x, _U2&& __y)\n",
      "\u001b[0;1;32m                 ^~~~~~~~~~~~~~~~~~~~~~~~~~~~~~~\n",
      "\u001b[0m\u001b[1minput_line_14:2:25: \u001b[0m\u001b[0;1;30mnote: \u001b[0mwhile substituting deduced template arguments into function template 'pair' [with _U2 = int, $1 = (no value)]\u001b[0m\n",
      " std::map<int, int> y { {1, 2}, {3, 2} };\n",
      "\u001b[0;1;32m                        ^\n",
      "\u001b[0mIn file included from input_line_1:1:\n",
      "In file included from /home/gradyarnold/mambaforge/bin/../lib/gcc/../../x86_64-conda-linux-gnu/include/c++/10.4.0/new:41:\n",
      "In file included from /home/gradyarnold/mambaforge/bin/../lib/gcc/../../x86_64-conda-linux-gnu/include/c++/10.4.0/exception:147:\n",
      "In file included from /home/gradyarnold/mambaforge/bin/../lib/gcc/../../x86_64-conda-linux-gnu/include/c++/10.4.0/bits/exception_ptr.h:43:\n",
      "In file included from /home/gradyarnold/mambaforge/bin/../lib/gcc/../../x86_64-conda-linux-gnu/include/c++/10.4.0/bits/move.h:57:\n",
      "\u001b[1m/home/gradyarnold/mambaforge/bin/../lib/gcc/../../x86_64-conda-linux-gnu/include/c++/10.4.0/type_traits:139:31: \u001b[0m\u001b[0;1;31merror: \u001b[0m\u001b[1mno member named 'value' in 'std::is_constructible<const int, int &&>'\u001b[0m\n",
      "    : public conditional<_B1::value, _B2, _B1>::type\n",
      "\u001b[0;1;32m                         ~~~~~^\n",
      "\u001b[0m\u001b[1m/home/gradyarnold/mambaforge/bin/../lib/gcc/../../x86_64-conda-linux-gnu/include/c++/10.4.0/bits/stl_pair.h:120:9: \u001b[0m\u001b[0;1;30mnote: \u001b[0min instantiation of template class 'std::__and_<std::is_constructible<const int, int &&>, std::is_constructible<int, int &&> >' requested here\u001b[0m\n",
      "        return __and_<is_constructible<_T1, _U1&&>,\n",
      "\u001b[0;1;32m               ^\n",
      "\u001b[0m\u001b[1m/home/gradyarnold/mambaforge/bin/../lib/gcc/../../x86_64-conda-linux-gnu/include/c++/10.4.0/bits/stl_pair.h:348:7: \u001b[0m\u001b[0;1;30mnote: \u001b[0min instantiation of function template specialization 'std::_PCC<true, const int, int>::_MoveConstructiblePair<int, int>' requested here\u001b[0m\n",
      "                           _MoveConstructiblePair<_U1, _U2>()\n",
      "\u001b[0;1;32m                           ^\n",
      "\u001b[0m\u001b[1m/home/gradyarnold/mambaforge/bin/../lib/gcc/../../x86_64-conda-linux-gnu/include/c++/10.4.0/bits/stl_pair.h:352:12: \u001b[0m\u001b[0;1;30mnote: \u001b[0mwhile substituting prior template arguments into non-type template parameter [with _U1 = int, _U2 = int]\u001b[0m\n",
      "        constexpr pair(_U1&& __x, _U2&& __y)\n",
      "\u001b[0;1;32m                  ^~~~~~~~~~~~~~~~~~~~~~~~~~\n",
      "\u001b[0m\u001b[1minput_line_14:2:25: \u001b[0m\u001b[0;1;30mnote: \u001b[0mwhile substituting deduced template arguments into function template 'pair' [with _U1 = int, _U2 = int, $2 = (no value)]\u001b[0m\n",
      " std::map<int, int> y { {1, 2}, {3, 2} };\n",
      "\u001b[0;1;32m                        ^\n",
      "\u001b[0mIn file included from input_line_1:1:\n",
      "In file included from /home/gradyarnold/mambaforge/bin/../lib/gcc/../../x86_64-conda-linux-gnu/include/c++/10.4.0/new:41:\n",
      "In file included from /home/gradyarnold/mambaforge/bin/../lib/gcc/../../x86_64-conda-linux-gnu/include/c++/10.4.0/exception:147:\n",
      "In file included from /home/gradyarnold/mambaforge/bin/../lib/gcc/../../x86_64-conda-linux-gnu/include/c++/10.4.0/bits/exception_ptr.h:43:\n",
      "In file included from /home/gradyarnold/mambaforge/bin/../lib/gcc/../../x86_64-conda-linux-gnu/include/c++/10.4.0/bits/move.h:57:\n",
      "\u001b[1m/home/gradyarnold/mambaforge/bin/../lib/gcc/../../x86_64-conda-linux-gnu/include/c++/10.4.0/type_traits:121:31: \u001b[0m\u001b[0;1;31merror: \u001b[0m\u001b[1mno member named 'value' in 'std::is_void<int &&>'\u001b[0m\n",
      "    : public conditional<_B1::value, _B1, __or_<_B2, _B3, _Bn...>>::type\n",
      "\u001b[0;1;32m                         ~~~~~^\n",
      "\u001b[0m\u001b[1m/home/gradyarnold/mambaforge/bin/../lib/gcc/../../x86_64-conda-linux-gnu/include/c++/10.4.0/type_traits:1416:19: \u001b[0m\u001b[0;1;30mnote: \u001b[0min instantiation of template class 'std::__or_<std::is_void<int &&>, std::is_function<const int>, std::is_array<const int> >' requested here\u001b[0m\n",
      "           bool = __or_<is_void<_From>, is_function<_To>,\n",
      "\u001b[0;1;32m                  ^\n",
      "\u001b[0m\u001b[1m/home/gradyarnold/mambaforge/bin/../lib/gcc/../../x86_64-conda-linux-gnu/include/c++/10.4.0/type_traits:1448:14: \u001b[0m\u001b[0;1;30mnote: \u001b[0min instantiation of default argument for '__is_convertible_helper<int &&, const int>' required here\u001b[0m\n",
      "    : public __is_convertible_helper<_From, _To>::type\n",
      "\u001b[0;1;32m             ^~~~~~~~~~~~~~~~~~~~~~~~~~~~~~~~~~~\n",
      "\u001b[0m\u001b[1m/home/gradyarnold/mambaforge/bin/../lib/gcc/../../x86_64-conda-linux-gnu/include/c++/10.4.0/type_traits:139:26: \u001b[0m\u001b[0;1;30mnote: \u001b[0min instantiation of template class 'std::is_convertible<int &&, const int>' requested here\u001b[0m\n",
      "    : public conditional<_B1::value, _B2, _B1>::type\n",
      "\u001b[0;1;32m                         ^\n",
      "\u001b[0m\u001b[1m/home/gradyarnold/mambaforge/bin/../lib/gcc/../../x86_64-conda-linux-gnu/include/c++/10.4.0/bits/stl_pair.h:127:9: \u001b[0m\u001b[0;1;30mnote: \u001b[0min instantiation of template class 'std::__and_<std::is_convertible<int &&, const int>, std::is_convertible<int &&, int> >' requested here\u001b[0m\n",
      "        return __and_<is_convertible<_U1&&, _T1>,\n",
      "\u001b[0;1;32m               ^\n",
      "\u001b[0m\u001b[1m/home/gradyarnold/mambaforge/bin/../lib/gcc/../../x86_64-conda-linux-gnu/include/c++/10.4.0/bits/stl_pair.h:350:7: \u001b[0m\u001b[0;1;30mnote: \u001b[0min instantiation of function template specialization 'std::_PCC<true, const int, int>::_ImplicitlyMoveConvertiblePair<int, int>' requested here\u001b[0m\n"
     ]
    },
    {
     "name": "stderr",
     "output_type": "stream",
     "text": [
      "                           _ImplicitlyMoveConvertiblePair<_U1, _U2>(),\n",
      "\u001b[0;1;32m                           ^\n",
      "\u001b[0m\u001b[1m/home/gradyarnold/mambaforge/bin/../lib/gcc/../../x86_64-conda-linux-gnu/include/c++/10.4.0/bits/stl_pair.h:352:12: \u001b[0m\u001b[0;1;30mnote: \u001b[0mwhile substituting prior template arguments into non-type template parameter [with _U1 = int, _U2 = int]\u001b[0m\n",
      "        constexpr pair(_U1&& __x, _U2&& __y)\n",
      "\u001b[0;1;32m                  ^~~~~~~~~~~~~~~~~~~~~~~~~~\n",
      "\u001b[0m\u001b[1minput_line_14:2:25: \u001b[0m\u001b[0;1;30mnote: \u001b[0mwhile substituting deduced template arguments into function template 'pair' [with _U1 = int, _U2 = int, $2 = (no value)]\u001b[0m\n",
      " std::map<int, int> y { {1, 2}, {3, 2} };\n",
      "\u001b[0;1;32m                        ^\n",
      "\u001b[0m\u001b[1minput_line_14:2:21: \u001b[0m\u001b[0;1;31merror: \u001b[0m\u001b[1mno matching constructor for initialization of 'std::map<int, int>'\u001b[0m\n",
      " std::map<int, int> y { {1, 2}, {3, 2} };\n",
      "\u001b[0;1;32m                    ^ ~~~~~~~~~~~~~~~~~~\n",
      "\u001b[0m\u001b[1m/home/gradyarnold/mambaforge/bin/../lib/gcc/../../x86_64-conda-linux-gnu/include/c++/10.4.0/bits/stl_map.h:244:7: \u001b[0m\u001b[0;1;30mnote: \u001b[0mcandidate constructor not viable: cannot convert initializer list argument to 'const std::map<int, int, std::less<int>, std::allocator<std::pair<const int, int> > >::allocator_type' (aka 'const std::allocator<std::pair<const int, int> >')\u001b[0m\n",
      "      map(map&& __m, const allocator_type& __a)\n",
      "\u001b[0;1;32m      ^\n",
      "\u001b[0m\u001b[1m/home/gradyarnold/mambaforge/bin/../lib/gcc/../../x86_64-conda-linux-gnu/include/c++/10.4.0/bits/stl_map.h:240:7: \u001b[0m\u001b[0;1;30mnote: \u001b[0mcandidate constructor not viable: cannot convert initializer list argument to 'const std::map<int, int, std::less<int>, std::allocator<std::pair<const int, int> > >::allocator_type' (aka 'const std::allocator<std::pair<const int, int> >')\u001b[0m\n",
      "      map(const map& __m, const allocator_type& __a)\n",
      "\u001b[0;1;32m      ^\n",
      "\u001b[0m\u001b[1m/home/gradyarnold/mambaforge/bin/../lib/gcc/../../x86_64-conda-linux-gnu/include/c++/10.4.0/bits/stl_map.h:194:7: \u001b[0m\u001b[0;1;30mnote: \u001b[0mcandidate constructor not viable: cannot convert initializer list argument to 'const std::less<int>'\u001b[0m\n",
      "      map(const _Compare& __comp,\n",
      "\u001b[0;1;32m      ^\n",
      "\u001b[0m\u001b[1m/home/gradyarnold/mambaforge/bin/../lib/gcc/../../x86_64-conda-linux-gnu/include/c++/10.4.0/bits/stl_map.h:228:7: \u001b[0m\u001b[0;1;30mnote: \u001b[0mcandidate constructor not viable: no known conversion from 'int' to 'std::pair<const int, int>' for 1st argument\u001b[0m\n",
      "      map(initializer_list<value_type> __l,\n",
      "\u001b[0;1;32m      ^\n",
      "\u001b[0m\u001b[1m/home/gradyarnold/mambaforge/bin/../lib/gcc/../../x86_64-conda-linux-gnu/include/c++/10.4.0/bits/stl_map.h:250:7: \u001b[0m\u001b[0;1;30mnote: \u001b[0mcandidate constructor not viable: no known conversion from 'int' to 'std::pair<const int, int>' for 1st argument\u001b[0m\n",
      "      map(initializer_list<value_type> __l, const allocator_type& __a)\n",
      "\u001b[0;1;32m      ^\n",
      "\u001b[0m\u001b[1m/home/gradyarnold/mambaforge/bin/../lib/gcc/../../x86_64-conda-linux-gnu/include/c++/10.4.0/bits/stl_map.h:273:2: \u001b[0m\u001b[0;1;30mnote: \u001b[0mcandidate template ignored: couldn't infer template argument '_InputIterator'\u001b[0m\n",
      "        map(_InputIterator __first, _InputIterator __last)\n",
      "\u001b[0;1;32m        ^\n",
      "\u001b[0m\u001b[1m/home/gradyarnold/mambaforge/bin/../lib/gcc/../../x86_64-conda-linux-gnu/include/c++/10.4.0/bits/stl_map.h:256:2: \u001b[0m\u001b[0;1;30mnote: \u001b[0mcandidate constructor template not viable: requires 3 arguments, but 2 were provided\u001b[0m\n",
      "        map(_InputIterator __first, _InputIterator __last,\n",
      "\u001b[0;1;32m        ^\n",
      "\u001b[0m\u001b[1m/home/gradyarnold/mambaforge/bin/../lib/gcc/../../x86_64-conda-linux-gnu/include/c++/10.4.0/bits/stl_map.h:290:2: \u001b[0m\u001b[0;1;30mnote: \u001b[0mcandidate constructor template not viable: requires at least 3 arguments, but 2 were provided\u001b[0m\n",
      "        map(_InputIterator __first, _InputIterator __last,\n",
      "\u001b[0;1;32m        ^\n",
      "\u001b[0m\u001b[1m/home/gradyarnold/mambaforge/bin/../lib/gcc/../../x86_64-conda-linux-gnu/include/c++/10.4.0/bits/stl_map.h:207:7: \u001b[0m\u001b[0;1;30mnote: \u001b[0mcandidate constructor not viable: requires 1 argument, but 2 were provided\u001b[0m\n",
      "      map(const map&) = default;\n",
      "\u001b[0;1;32m      ^\n",
      "\u001b[0m\u001b[1m/home/gradyarnold/mambaforge/bin/../lib/gcc/../../x86_64-conda-linux-gnu/include/c++/10.4.0/bits/stl_map.h:215:7: \u001b[0m\u001b[0;1;30mnote: \u001b[0mcandidate constructor not viable: requires 1 argument, but 2 were provided\u001b[0m\n",
      "      map(map&&) = default;\n",
      "\u001b[0;1;32m      ^\n",
      "\u001b[0m\u001b[1m/home/gradyarnold/mambaforge/bin/../lib/gcc/../../x86_64-conda-linux-gnu/include/c++/10.4.0/bits/stl_map.h:236:7: \u001b[0m\u001b[0;1;30mnote: \u001b[0mcandidate constructor not viable: requires single argument '__a', but 2 arguments were provided\u001b[0m\n",
      "      map(const allocator_type& __a)\n",
      "\u001b[0;1;32m      ^\n",
      "\u001b[0m\u001b[1m/home/gradyarnold/mambaforge/bin/../lib/gcc/../../x86_64-conda-linux-gnu/include/c++/10.4.0/bits/stl_map.h:185:7: \u001b[0m\u001b[0;1;30mnote: \u001b[0mcandidate constructor not viable: requires 0 arguments, but 2 were provided\u001b[0m\n",
      "      map() = default;\n",
      "\u001b[0;1;32m      ^\n",
      "\u001b[0m"
     ]
    },
    {
     "ename": "Interpreter Error",
     "evalue": "",
     "output_type": "error",
     "traceback": [
      "Interpreter Error: "
     ]
    }
   ],
   "source": [
    "std::map<int, int> y { {1, 2}, {3, 2} };"
   ]
  },
  {
   "cell_type": "code",
   "execution_count": 2,
   "id": "cd7adca3",
   "metadata": {},
   "outputs": [
    {
     "name": "stderr",
     "output_type": "stream",
     "text": [
      "Unknown magic line function %python\n"
     ]
    }
   ],
   "source": [
    "%python \n",
    "x"
   ]
  },
  {
   "cell_type": "code",
   "execution_count": 4,
   "id": "64b8d181",
   "metadata": {},
   "outputs": [],
   "source": [
    "?std::map"
   ]
  },
  {
   "cell_type": "code",
   "execution_count": null,
   "id": "3e75269d",
   "metadata": {},
   "outputs": [],
   "source": []
  }
 ],
 "metadata": {
  "kernelspec": {
   "display_name": "C++17",
   "language": "C++17",
   "name": "xcpp17"
  }
 },
 "nbformat": 4,
 "nbformat_minor": 5
}
